{
 "cells": [
  {
   "cell_type": "code",
   "execution_count": 3,
   "metadata": {
    "ExecuteTime": {
     "end_time": "2024-02-06T02:19:56.970979800Z",
     "start_time": "2024-02-06T02:19:56.006461100Z"
    },
    "collapsed": true
   },
   "outputs": [],
   "source": [
    "import nltk\n",
    "import pandas as pd\n",
    "import numpy as np\n",
    "from nltk.corpus import stopwords\n",
    "from nltk.stem import SnowballStemmer\n",
    "from nltk.tokenize import RegexpTokenizer\n",
    "import json\n",
    "import langid\n"
   ]
  },
  {
   "cell_type": "code",
   "execution_count": 5,
   "metadata": {
    "ExecuteTime": {
     "end_time": "2024-02-06T02:21:42.054655Z",
     "start_time": "2024-02-06T02:21:41.769939500Z"
    },
    "collapsed": false
   },
   "outputs": [
    {
     "name": "stdout",
     "output_type": "stream",
     "text": [
      "<class 'pandas.core.frame.DataFrame'>\n",
      "RangeIndex: 5437 entries, 0 to 5436\n",
      "Data columns (total 11 columns):\n",
      " #   Column            Non-Null Count  Dtype \n",
      "---  ------            --------------  ----- \n",
      " 0   title             5437 non-null   object\n",
      " 1   link              5437 non-null   object\n",
      " 2   keywords          2502 non-null   object\n",
      " 3   creator           2610 non-null   object\n",
      " 4   video_url         0 non-null      object\n",
      " 5   description       4936 non-null   object\n",
      " 6   content           1627 non-null   object\n",
      " 7   pubDate           5437 non-null   object\n",
      " 8   full_description  2670 non-null   object\n",
      " 9   image_url         2169 non-null   object\n",
      " 10  source_id         5437 non-null   object\n",
      "dtypes: object(11)\n",
      "memory usage: 467.4+ KB\n",
      "None\n"
     ]
    }
   ],
   "source": [
    "# 1. Data Collection --------------------------------------------------------------------------------\n",
    "\n",
    "# Loading json\n",
    "with open('Science_Technology_News.json', encoding='utf-8') as f:\n",
    "    data = json.load(f)\n",
    "\n",
    "# Main dataframe\n",
    "df = pd.json_normalize(data)\n",
    "\n",
    "# Printing Main dataframe structure\n",
    "print(df.info())"
   ]
  },
  {
   "cell_type": "code",
   "execution_count": 6,
   "metadata": {
    "ExecuteTime": {
     "end_time": "2024-02-06T02:21:54.055850100Z",
     "start_time": "2024-02-06T02:21:48.497862200Z"
    },
    "collapsed": false
   },
   "outputs": [],
   "source": [
    "# 2. Information Extraction -----------------------------------------------------------------\n",
    "\n",
    "# Extracting relevant fields\n",
    "df = df[['title', 'pubDate', 'creator', 'content']].copy()\n",
    "\n",
    "# Filtering out non-English articles ------------------------------------------\n",
    "def englishfilter(text):\n",
    "    if pd.isna(text):\n",
    "        return \"other\"\n",
    "    else:\n",
    "        return langid.classify(text)[0]\n",
    "df['language'] = df['content'].apply(englishfilter)\n",
    "df = df[df['language'] == 'en']\n",
    "df.drop('language', axis=1, inplace=True)\n",
    "#-----------------------------------------------------------------------------\n",
    "\n",
    "# Preprocessing\n",
    "stop_words = set(stopwords.words('english'))\n",
    "stemmer = SnowballStemmer('english')\n",
    "tokenizer = RegexpTokenizer(r'\\w+')\n",
    "\n",
    "def preprocess(text):\n",
    "    if text:\n",
    "        tokens = tokenizer.tokenize(text.lower())\n",
    "        filtered_tokens = [word for word in tokens if word not in stop_words]\n",
    "        stemmed_tokens = [stemmer.stem(word) for word in filtered_tokens]\n",
    "        return \" \".join(stemmed_tokens)\n",
    "    return \"\"\n",
    "\n",
    "# Applying preprocessing to content field\n",
    "df['processed_content'] = df['content'].apply(preprocess)\n"
   ]
  },
  {
   "cell_type": "code",
   "execution_count": 8,
   "metadata": {
    "ExecuteTime": {
     "end_time": "2024-02-06T02:22:35.400435200Z",
     "start_time": "2024-02-06T02:22:35.372924Z"
    },
    "collapsed": false
   },
   "outputs": [
    {
     "name": "stdout",
     "output_type": "stream",
     "text": [
      "<class 'pandas.core.frame.DataFrame'>\n",
      "RangeIndex: 5437 entries, 0 to 5436\n",
      "Data columns (total 5 columns):\n",
      " #   Column             Non-Null Count  Dtype \n",
      "---  ------             --------------  ----- \n",
      " 0   title              5437 non-null   object\n",
      " 1   pubDate            5437 non-null   object\n",
      " 2   creator            2610 non-null   object\n",
      " 3   content            1627 non-null   object\n",
      " 4   processed_content  5437 non-null   object\n",
      "dtypes: object(5)\n",
      "memory usage: 212.5+ KB\n",
      "None\n"
     ]
    }
   ],
   "source": [
    "# Printing Main dataframe structure\n",
    "print(df.info())"
   ]
  },
  {
   "cell_type": "code",
   "execution_count": 9,
   "metadata": {
    "ExecuteTime": {
     "end_time": "2024-02-06T02:22:38.054530200Z",
     "start_time": "2024-02-06T02:22:38.015078100Z"
    },
    "collapsed": false
   },
   "outputs": [
    {
     "name": "stdout",
     "output_type": "stream",
     "text": [
      "0                                                     \n",
      "1    uno smartphon pieghevol come xiaomi mix fold a...\n",
      "2                                                     \n",
      "3    mától magyar erst bank kártyáiv elérhető mobil...\n",
      "4                                                     \n",
      "Name: processed_content, dtype: object\n"
     ]
    }
   ],
   "source": [
    "# Printing preprocessed content\n",
    "print(df['processed_content'].head())"
   ]
  },
  {
   "cell_type": "code",
   "execution_count": null,
   "metadata": {
    "collapsed": false
   },
   "outputs": [],
   "source": []
  }
 ],
 "metadata": {
  "kernelspec": {
   "display_name": "Python 3",
   "language": "python",
   "name": "python3"
  },
  "language_info": {
   "codemirror_mode": {
    "name": "ipython",
    "version": 2
   },
   "file_extension": ".py",
   "mimetype": "text/x-python",
   "name": "python",
   "nbconvert_exporter": "python",
   "pygments_lexer": "ipython2",
   "version": "2.7.6"
  }
 },
 "nbformat": 4,
 "nbformat_minor": 0
}
